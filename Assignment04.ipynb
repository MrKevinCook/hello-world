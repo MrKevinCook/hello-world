{
  "nbformat": 4,
  "nbformat_minor": 0,
  "metadata": {
    "colab": {
      "provenance": [],
      "include_colab_link": true
    },
    "kernelspec": {
      "name": "python3",
      "display_name": "Python 3"
    }
  },
  "cells": [
    {
      "cell_type": "markdown",
      "metadata": {
        "id": "view-in-github",
        "colab_type": "text"
      },
      "source": [
        "<a href=\"https://colab.research.google.com/github/MrKevinCook/hello-world/blob/master/Assignment04.ipynb\" target=\"_parent\"><img src=\"https://colab.research.google.com/assets/colab-badge.svg\" alt=\"Open In Colab\"/></a>"
      ]
    },
    {
      "cell_type": "markdown",
      "metadata": {
        "id": "69a5oj6QD5sZ"
      },
      "source": [
        "# Assignment 4"
      ]
    },
    {
      "cell_type": "code",
      "source": [
        "import matplotlib.pyplot as plt\n",
        "import seaborn as sns\n"
      ],
      "metadata": {
        "id": "vjxkb5KlGhZs"
      },
      "execution_count": 2,
      "outputs": []
    },
    {
      "cell_type": "markdown",
      "metadata": {
        "id": "Yg7ArX6SEtQ6"
      },
      "source": [
        "## Action Items:\n",
        "•\tCreate three different charts using Seaborn package.\n",
        "  1. Create three different meaningful charts using Seaborn package on your selected data set.\n",
        "  2. Explain when it is best to use\n",
        "  3. Submit your Python file\n",
        "\n"
      ]
    },
    {
      "cell_type": "code",
      "source": [
        "import pandas.testing as tm"
      ],
      "metadata": {
        "id": "ZOVmiTv-HUiT"
      },
      "execution_count": 3,
      "outputs": []
    },
    {
      "cell_type": "code",
      "source": [],
      "metadata": {
        "id": "Tj70qajBHbVr"
      },
      "execution_count": null,
      "outputs": []
    }
  ]
}